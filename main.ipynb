{
 "cells": [
  {
   "cell_type": "code",
   "execution_count": 7,
   "source": [
    "import itk\r\n",
    "\r\n",
    "# ----------------------\r\n",
    "# Lecture de l'image\r\n",
    "# ----------------------\r\n",
    "input_filename = './images/brain.png'\r\n",
    "image = itk.imread(input_filename)\r\n",
    "ImageType = type(image) # On récupère le type de l'image\r\n",
    "# ----------------------\r\n",
    "# Création et paramétrage du filtre\r\n",
    "# ----------------------\r\n",
    "smoothFilter = itk.SmoothingRecursiveGaussianImageFilter[ImageType,\r\n",
    "ImageType].New() # On créé une instance du filtre qui prend en entrée et ressort des images du même type que l'image d'entrée\r\n",
    "smoothFilter.SetInput(image) # On spécifie l'image d'entrée du filtre\r\n",
    "smoothFilter.SetSigma(1) # On sélectionne la variance du filtre\r\n",
    "# ----------------------\r\n",
    "# Écriture de la sortie du filtre\r\n",
    "# ----------------------\r\n",
    "itk.imwrite(smoothFilter.GetOutput(), 'myImage_smoothed.png') # On écrit  sur le disque la sortie du filtre Gaussien\r\n",
    "\r\n"
   ],
   "outputs": [],
   "metadata": {}
  }
 ],
 "metadata": {
  "orig_nbformat": 4,
  "language_info": {
   "name": "python",
   "version": "3.9.7",
   "mimetype": "text/x-python",
   "codemirror_mode": {
    "name": "ipython",
    "version": 3
   },
   "pygments_lexer": "ipython3",
   "nbconvert_exporter": "python",
   "file_extension": ".py"
  },
  "kernelspec": {
   "name": "python3",
   "display_name": "Python 3.9.7 64-bit (windows store)"
  },
  "interpreter": {
   "hash": "01370bef7a1db626332366b035f8096ec2a1515785b8381ea133acb5f3e5bf43"
  }
 },
 "nbformat": 4,
 "nbformat_minor": 2
}